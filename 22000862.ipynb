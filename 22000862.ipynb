{
 "cells": [
  {
   "cell_type": "code",
   "execution_count": 1,
   "id": "71fd26fe-2a14-4df7-a4cb-bca4dca2aff4",
   "metadata": {},
   "outputs": [
    {
     "name": "stdout",
     "output_type": "stream",
     "text": [
      "package 'ggplot2' successfully unpacked and MD5 sums checked\n",
      "\n",
      "The downloaded binary packages are in\n",
      "\tC:\\Users\\USER\\AppData\\Local\\Temp\\Rtmp8k5E1z\\downloaded_packages\n",
      "package 'dplyr' successfully unpacked and MD5 sums checked\n",
      "\n",
      "The downloaded binary packages are in\n",
      "\tC:\\Users\\USER\\AppData\\Local\\Temp\\Rtmp8k5E1z\\downloaded_packages\n",
      "package 'readxl' successfully unpacked and MD5 sums checked\n",
      "\n",
      "The downloaded binary packages are in\n",
      "\tC:\\Users\\USER\\AppData\\Local\\Temp\\Rtmp8k5E1z\\downloaded_packages\n",
      "package 'corrplot' successfully unpacked and MD5 sums checked\n",
      "\n",
      "The downloaded binary packages are in\n",
      "\tC:\\Users\\USER\\AppData\\Local\\Temp\\Rtmp8k5E1z\\downloaded_packages\n"
     ]
    }
   ],
   "source": [
    "install.packages(\"ggplot2\")\n",
    "install.packages(\"dplyr\")\n",
    "install.packages(\"readxl\")\n",
    "install.packages(\"corrplot\")"
   ]
  },
  {
   "cell_type": "code",
   "execution_count": 2,
   "id": "11ee9dd7-41c5-4d43-8745-f656fa9caa23",
   "metadata": {},
   "outputs": [
    {
     "name": "stderr",
     "output_type": "stream",
     "text": [
      "\n",
      "Attaching package: 'dplyr'\n",
      "\n",
      "\n",
      "The following objects are masked from 'package:stats':\n",
      "\n",
      "    filter, lag\n",
      "\n",
      "\n",
      "The following objects are masked from 'package:base':\n",
      "\n",
      "    intersect, setdiff, setequal, union\n",
      "\n",
      "\n"
     ]
    }
   ],
   "source": [
    "library(ggplot2)\n",
    "library(dplyr)"
   ]
  },
  {
   "cell_type": "code",
   "execution_count": 57,
   "id": "dad3b636-e632-4230-8ae4-6c37b98b5eb3",
   "metadata": {},
   "outputs": [
    {
     "data": {
      "text/html": [
       "<table class=\"dataframe\">\n",
       "<caption>A data.frame: 6 × 16</caption>\n",
       "<thead>\n",
       "\t<tr><th></th><th scope=col>Animal</th><th scope=col>Height..cm.</th><th scope=col>Weight..kg.</th><th scope=col>Color</th><th scope=col>Lifespan..years.</th><th scope=col>Diet</th><th scope=col>Habitat</th><th scope=col>Predators</th><th scope=col>Average.Speed..km.h.</th><th scope=col>Countries.Found</th><th scope=col>Conservation.Status</th><th scope=col>Family</th><th scope=col>Gestation.Period..days.</th><th scope=col>Top.Speed..km.h.</th><th scope=col>Social.Structure</th><th scope=col>Offspring.per.Birth</th></tr>\n",
       "\t<tr><th></th><th scope=col>&lt;chr&gt;</th><th scope=col>&lt;chr&gt;</th><th scope=col>&lt;chr&gt;</th><th scope=col>&lt;chr&gt;</th><th scope=col>&lt;chr&gt;</th><th scope=col>&lt;chr&gt;</th><th scope=col>&lt;chr&gt;</th><th scope=col>&lt;chr&gt;</th><th scope=col>&lt;chr&gt;</th><th scope=col>&lt;chr&gt;</th><th scope=col>&lt;chr&gt;</th><th scope=col>&lt;chr&gt;</th><th scope=col>&lt;chr&gt;</th><th scope=col>&lt;chr&gt;</th><th scope=col>&lt;chr&gt;</th><th scope=col>&lt;chr&gt;</th></tr>\n",
       "</thead>\n",
       "<tbody>\n",
       "\t<tr><th scope=row>1</th><td>Aardvark        </td><td>105-130</td><td>40-65    </td><td>Grey        </td><td>20-30</td><td>Insectivore</td><td>Savannas, Grasslands</td><td>Lions, Hyenas        </td><td>40   </td><td>Africa                     </td><td>Least Concern</td><td>Orycteropodidae</td><td>210-240</td><td>40   </td><td>Solitary   </td><td>1            </td></tr>\n",
       "\t<tr><th scope=row>2</th><td>Aardwolf        </td><td>40-50  </td><td>8-14     </td><td>Yellow-brown</td><td>10-12</td><td>Insectivore</td><td>Grasslands, Savannas</td><td>Lions, Leopards      </td><td>24-30</td><td>Eastern and Southern Africa</td><td>Least Concern</td><td>Hyaenidae      </td><td>90     </td><td>40   </td><td>Solitary   </td><td>2-5          </td></tr>\n",
       "\t<tr><th scope=row>3</th><td>African Elephant</td><td>270-310</td><td>2700-6000</td><td>Grey        </td><td>60-70</td><td>Herbivore  </td><td>Savannah, Forest    </td><td>Lions, Hyenas        </td><td>25   </td><td>Africa                     </td><td>Vulnerable   </td><td>Elephantidae   </td><td>640-660</td><td>40   </td><td>Herd-based </td><td>1            </td></tr>\n",
       "\t<tr><th scope=row>4</th><td>African Lion    </td><td>80-110 </td><td>120-250  </td><td>Tan         </td><td>10-14</td><td>Carnivore  </td><td>Grasslands, Savannas</td><td>Hyenas, Crocodiles   </td><td>58   </td><td>Africa                     </td><td>Vulnerable   </td><td>Felidae        </td><td>98-105 </td><td>80   </td><td>Group-based</td><td>2-4 (usually)</td></tr>\n",
       "\t<tr><th scope=row>5</th><td>African Wild Dog</td><td>75-80  </td><td>18-36    </td><td>Multicolored</td><td>10-12</td><td>Carnivore  </td><td>Savannahs           </td><td>Lions, Hyenas        </td><td>56   </td><td>Sub-Saharan Africa         </td><td>Endangered   </td><td>Canidae        </td><td>70     </td><td>56   </td><td>Group-based</td><td>10-12        </td></tr>\n",
       "\t<tr><th scope=row>6</th><td>Alpine Ibex     </td><td>67-101 </td><td>19-120   </td><td>Brown       </td><td>15-20</td><td>Herbivore  </td><td>Mountains, Alpine   </td><td>Wolves, Golden Eagles</td><td>56-64</td><td>European Alps              </td><td>Least Concern</td><td>Bovidae        </td><td>150    </td><td>56-64</td><td>Group-based</td><td>1            </td></tr>\n",
       "</tbody>\n",
       "</table>\n"
      ],
      "text/latex": [
       "A data.frame: 6 × 16\n",
       "\\begin{tabular}{r|llllllllllllllll}\n",
       "  & Animal & Height..cm. & Weight..kg. & Color & Lifespan..years. & Diet & Habitat & Predators & Average.Speed..km.h. & Countries.Found & Conservation.Status & Family & Gestation.Period..days. & Top.Speed..km.h. & Social.Structure & Offspring.per.Birth\\\\\n",
       "  & <chr> & <chr> & <chr> & <chr> & <chr> & <chr> & <chr> & <chr> & <chr> & <chr> & <chr> & <chr> & <chr> & <chr> & <chr> & <chr>\\\\\n",
       "\\hline\n",
       "\t1 & Aardvark         & 105-130 & 40-65     & Grey         & 20-30 & Insectivore & Savannas, Grasslands & Lions, Hyenas         & 40    & Africa                      & Least Concern & Orycteropodidae & 210-240 & 40    & Solitary    & 1            \\\\\n",
       "\t2 & Aardwolf         & 40-50   & 8-14      & Yellow-brown & 10-12 & Insectivore & Grasslands, Savannas & Lions, Leopards       & 24-30 & Eastern and Southern Africa & Least Concern & Hyaenidae       & 90      & 40    & Solitary    & 2-5          \\\\\n",
       "\t3 & African Elephant & 270-310 & 2700-6000 & Grey         & 60-70 & Herbivore   & Savannah, Forest     & Lions, Hyenas         & 25    & Africa                      & Vulnerable    & Elephantidae    & 640-660 & 40    & Herd-based  & 1            \\\\\n",
       "\t4 & African Lion     & 80-110  & 120-250   & Tan          & 10-14 & Carnivore   & Grasslands, Savannas & Hyenas, Crocodiles    & 58    & Africa                      & Vulnerable    & Felidae         & 98-105  & 80    & Group-based & 2-4 (usually)\\\\\n",
       "\t5 & African Wild Dog & 75-80   & 18-36     & Multicolored & 10-12 & Carnivore   & Savannahs            & Lions, Hyenas         & 56    & Sub-Saharan Africa          & Endangered    & Canidae         & 70      & 56    & Group-based & 10-12        \\\\\n",
       "\t6 & Alpine Ibex      & 67-101  & 19-120    & Brown        & 15-20 & Herbivore   & Mountains, Alpine    & Wolves, Golden Eagles & 56-64 & European Alps               & Least Concern & Bovidae         & 150     & 56-64 & Group-based & 1            \\\\\n",
       "\\end{tabular}\n"
      ],
      "text/markdown": [
       "\n",
       "A data.frame: 6 × 16\n",
       "\n",
       "| <!--/--> | Animal &lt;chr&gt; | Height..cm. &lt;chr&gt; | Weight..kg. &lt;chr&gt; | Color &lt;chr&gt; | Lifespan..years. &lt;chr&gt; | Diet &lt;chr&gt; | Habitat &lt;chr&gt; | Predators &lt;chr&gt; | Average.Speed..km.h. &lt;chr&gt; | Countries.Found &lt;chr&gt; | Conservation.Status &lt;chr&gt; | Family &lt;chr&gt; | Gestation.Period..days. &lt;chr&gt; | Top.Speed..km.h. &lt;chr&gt; | Social.Structure &lt;chr&gt; | Offspring.per.Birth &lt;chr&gt; |\n",
       "|---|---|---|---|---|---|---|---|---|---|---|---|---|---|---|---|---|\n",
       "| 1 | Aardvark         | 105-130 | 40-65     | Grey         | 20-30 | Insectivore | Savannas, Grasslands | Lions, Hyenas         | 40    | Africa                      | Least Concern | Orycteropodidae | 210-240 | 40    | Solitary    | 1             |\n",
       "| 2 | Aardwolf         | 40-50   | 8-14      | Yellow-brown | 10-12 | Insectivore | Grasslands, Savannas | Lions, Leopards       | 24-30 | Eastern and Southern Africa | Least Concern | Hyaenidae       | 90      | 40    | Solitary    | 2-5           |\n",
       "| 3 | African Elephant | 270-310 | 2700-6000 | Grey         | 60-70 | Herbivore   | Savannah, Forest     | Lions, Hyenas         | 25    | Africa                      | Vulnerable    | Elephantidae    | 640-660 | 40    | Herd-based  | 1             |\n",
       "| 4 | African Lion     | 80-110  | 120-250   | Tan          | 10-14 | Carnivore   | Grasslands, Savannas | Hyenas, Crocodiles    | 58    | Africa                      | Vulnerable    | Felidae         | 98-105  | 80    | Group-based | 2-4 (usually) |\n",
       "| 5 | African Wild Dog | 75-80   | 18-36     | Multicolored | 10-12 | Carnivore   | Savannahs            | Lions, Hyenas         | 56    | Sub-Saharan Africa          | Endangered    | Canidae         | 70      | 56    | Group-based | 10-12         |\n",
       "| 6 | Alpine Ibex      | 67-101  | 19-120    | Brown        | 15-20 | Herbivore   | Mountains, Alpine    | Wolves, Golden Eagles | 56-64 | European Alps               | Least Concern | Bovidae         | 150     | 56-64 | Group-based | 1             |\n",
       "\n"
      ],
      "text/plain": [
       "  Animal           Height..cm. Weight..kg. Color        Lifespan..years.\n",
       "1 Aardvark         105-130     40-65       Grey         20-30           \n",
       "2 Aardwolf         40-50       8-14        Yellow-brown 10-12           \n",
       "3 African Elephant 270-310     2700-6000   Grey         60-70           \n",
       "4 African Lion     80-110      120-250     Tan          10-14           \n",
       "5 African Wild Dog 75-80       18-36       Multicolored 10-12           \n",
       "6 Alpine Ibex      67-101      19-120      Brown        15-20           \n",
       "  Diet        Habitat              Predators             Average.Speed..km.h.\n",
       "1 Insectivore Savannas, Grasslands Lions, Hyenas         40                  \n",
       "2 Insectivore Grasslands, Savannas Lions, Leopards       24-30               \n",
       "3 Herbivore   Savannah, Forest     Lions, Hyenas         25                  \n",
       "4 Carnivore   Grasslands, Savannas Hyenas, Crocodiles    58                  \n",
       "5 Carnivore   Savannahs            Lions, Hyenas         56                  \n",
       "6 Herbivore   Mountains, Alpine    Wolves, Golden Eagles 56-64               \n",
       "  Countries.Found             Conservation.Status Family         \n",
       "1 Africa                      Least Concern       Orycteropodidae\n",
       "2 Eastern and Southern Africa Least Concern       Hyaenidae      \n",
       "3 Africa                      Vulnerable          Elephantidae   \n",
       "4 Africa                      Vulnerable          Felidae        \n",
       "5 Sub-Saharan Africa          Endangered          Canidae        \n",
       "6 European Alps               Least Concern       Bovidae        \n",
       "  Gestation.Period..days. Top.Speed..km.h. Social.Structure Offspring.per.Birth\n",
       "1 210-240                 40               Solitary         1                  \n",
       "2 90                      40               Solitary         2-5                \n",
       "3 640-660                 40               Herd-based       1                  \n",
       "4 98-105                  80               Group-based      2-4 (usually)      \n",
       "5 70                      56               Group-based      10-12              \n",
       "6 150                     56-64            Group-based      1                  "
      ]
     },
     "metadata": {},
     "output_type": "display_data"
    }
   ],
   "source": [
    "# Load the dataset\n",
    "animal_data <- read.csv(\"C:/Users/USER/Downloads/22000862 Labsheet 12/Animal_Dataset.csv\")\n",
    "\n",
    "# View the first few rows of the dataset\n",
    "head(animal_data)"
   ]
  },
  {
   "cell_type": "code",
   "execution_count": 59,
   "id": "dea41da8-7d9e-482d-9fa8-b5c33ef526e2",
   "metadata": {},
   "outputs": [
    {
     "data": {
      "text/html": [
       "0"
      ],
      "text/latex": [
       "0"
      ],
      "text/markdown": [
       "0"
      ],
      "text/plain": [
       "[1] 0"
      ]
     },
     "metadata": {},
     "output_type": "display_data"
    }
   ],
   "source": [
    "# Check for missing values\n",
    "sum(is.na(animal_data))"
   ]
  },
  {
   "cell_type": "code",
   "execution_count": 61,
   "id": "7f02c954-6f52-4f06-8d11-da6121a7cff9",
   "metadata": {},
   "outputs": [
    {
     "data": {
      "text/plain": [
       "    Animal          Height..cm.        Weight..kg.           Color          \n",
       " Length:205         Length:205         Length:205         Length:205        \n",
       " Class :character   Class :character   Class :character   Class :character  \n",
       " Mode  :character   Mode  :character   Mode  :character   Mode  :character  \n",
       " Lifespan..years.       Diet             Habitat           Predators        \n",
       " Length:205         Length:205         Length:205         Length:205        \n",
       " Class :character   Class :character   Class :character   Class :character  \n",
       " Mode  :character   Mode  :character   Mode  :character   Mode  :character  \n",
       " Average.Speed..km.h. Countries.Found    Conservation.Status    Family         \n",
       " Length:205           Length:205         Length:205          Length:205        \n",
       " Class :character     Class :character   Class :character    Class :character  \n",
       " Mode  :character     Mode  :character   Mode  :character    Mode  :character  \n",
       " Gestation.Period..days. Top.Speed..km.h.   Social.Structure  \n",
       " Length:205              Length:205         Length:205        \n",
       " Class :character        Class :character   Class :character  \n",
       " Mode  :character        Mode  :character   Mode  :character  \n",
       " Offspring.per.Birth\n",
       " Length:205         \n",
       " Class :character   \n",
       " Mode  :character   "
      ]
     },
     "metadata": {},
     "output_type": "display_data"
    }
   ],
   "source": [
    "# Remove rows with missing values\n",
    "animal_data <- na.omit(animal_data)\n",
    "\n",
    "# Summary statistics\n",
    "summary(animal_data)\n",
    "\n",
    "# Example: Impute missing values in the \"Height (cm)\" column with the median\n",
    "animal_data$Height..cm.[is.na(animal_data$Height..cm.)] <- median(animal_data$Height..cm., na.rm = TRUE)"
   ]
  },
  {
   "cell_type": "code",
   "execution_count": 7,
   "id": "3f214224-4d60-46ad-a511-3ce243b9fe59",
   "metadata": {},
   "outputs": [
    {
     "name": "stdout",
     "output_type": "stream",
     "text": [
      "'data.frame':\t205 obs. of  16 variables:\n",
      " $ Animal                 : chr  \"Aardvark\" \"Aardwolf\" \"African Elephant\" \"African Lion\" ...\n",
      " $ Height..cm.            : chr  \"105-130\" \"40-50\" \"270-310\" \"80-110\" ...\n",
      " $ Weight..kg.            : chr  \"40-65\" \"8-14\" \"2700-6000\" \"120-250\" ...\n",
      " $ Color                  : chr  \"Grey\" \"Yellow-brown\" \"Grey\" \"Tan\" ...\n",
      " $ Lifespan..years.       : chr  \"20-30\" \"10-12\" \"60-70\" \"10-14\" ...\n",
      " $ Diet                   : chr  \"Insectivore\" \"Insectivore\" \"Herbivore\" \"Carnivore\" ...\n",
      " $ Habitat                : chr  \"Savannas, Grasslands\" \"Grasslands, Savannas\" \"Savannah, Forest\" \"Grasslands, Savannas\" ...\n",
      " $ Predators              : chr  \"Lions, Hyenas\" \"Lions, Leopards\" \"Lions, Hyenas\" \"Hyenas, Crocodiles\" ...\n",
      " $ Average.Speed..km.h.   : chr  \"40\" \"24-30\" \"25\" \"58\" ...\n",
      " $ Countries.Found        : chr  \"Africa\" \"Eastern and Southern Africa\" \"Africa\" \"Africa\" ...\n",
      " $ Conservation.Status    : chr  \"Least Concern\" \"Least Concern\" \"Vulnerable\" \"Vulnerable\" ...\n",
      " $ Family                 : chr  \"Orycteropodidae\" \"Hyaenidae\" \"Elephantidae\" \"Felidae\" ...\n",
      " $ Gestation.Period..days.: chr  \"210-240\" \"90\" \"640-660\" \"98-105\" ...\n",
      " $ Top.Speed..km.h.       : chr  \"40\" \"40\" \"40\" \"80\" ...\n",
      " $ Social.Structure       : chr  \"Solitary\" \"Solitary\" \"Herd-based\" \"Group-based\" ...\n",
      " $ Offspring.per.Birth    : chr  \"1\" \"2-5\" \"1\" \"2-4 (usually)\" ...\n",
      "<0 x 0 matrix>\n"
     ]
    }
   ],
   "source": [
    "# Structure of the dataset\n",
    "str(animal_data)\n",
    "\n",
    "# Correlation analysis (for numeric columns)\n",
    "cor_matrix <- cor(animal_data[, sapply(animal_data, is.numeric)])\n",
    "print(cor_matrix)"
   ]
  },
  {
   "cell_type": "code",
   "execution_count": 65,
   "id": "9a4e548f-2d52-4036-b115-ce8e1926e100",
   "metadata": {},
   "outputs": [
    {
     "name": "stdout",
     "output_type": "stream",
     "text": [
      " num [1:4] 70 80 4 10\n"
     ]
    },
    {
     "data": {
      "text/html": [
       "0"
      ],
      "text/latex": [
       "0"
      ],
      "text/markdown": [
       "0"
      ],
      "text/plain": [
       "[1] 0"
      ]
     },
     "metadata": {},
     "output_type": "display_data"
    }
   ],
   "source": [
    "str(animal_data$Lifespan..years.)\n",
    "\n",
    "# Convert Lifespan..years. to numeric\n",
    "animal_data$Lifespan..years. <- as.numeric(animal_data$Lifespan..years.)\n",
    "\n",
    "# Check for NA values\n",
    "sum(is.na(animal_data$Lifespan..years.))\n",
    "\n",
    "# Option 1: Remove rows with NA values\n",
    "animal_data <- na.omit(animal_data)\n",
    "\n",
    "# Option 2: Impute NA values (e.g., with the median)\n",
    "animal_data$Lifespan..years.[is.na(animal_data$Lifespan..years.)] <- median(animal_data$Lifespan..years., na.rm = TRUE)"
   ]
  },
  {
   "cell_type": "code",
   "execution_count": 67,
   "id": "424b4c40-7c3d-44a4-92d1-152c6b7a4fb4",
   "metadata": {},
   "outputs": [
    {
     "data": {
      "image/png": "[encoded data removed]",
      "text/plain": [
       "plot without title"
      ]
     },
     "metadata": {
      "image/png": {
       "height": 420,
       "width": 420
      }
     },
     "output_type": "display_data"
    },
    {
     "data": {
      "image/png": "[encoded data removed]",
      "text/plain": [
       "plot without title"
      ]
     },
     "metadata": {
      "image/png": {
       "height": 420,
       "width": 420
      }
     },
     "output_type": "display_data"
    },
    {
     "data": {
      "image/png": "[encoded data removed]",
      "text/plain": [
       "plot without title"
      ]
     },
     "metadata": {
      "image/png": {
       "height": 420,
       "width": 420
      }
     },
     "output_type": "display_data"
    }
   ],
   "source": [
    "# Load ggplot2\n",
    "library(ggplot2)\n",
    "\n",
    "# Histogram of Lifespan\n",
    "ggplot(animal_data, aes(x = Lifespan..years.)) +\n",
    "  geom_histogram(binwidth = 5, fill = \"green\", color = \"black\") +\n",
    "  labs(title = \"Distribution of Lifespan\", x = \"Lifespan (years)\", y = \"Count\")\n",
    "\n",
    "# Scatter plot of Height vs Weight\n",
    "ggplot(animal_data, aes(x = Height..cm., y = Weight..kg.)) +\n",
    "  geom_point(color = \"red\") +\n",
    "  labs(title = \"Height vs Weight\", x = \"Height (cm)\", y = \"Weight (kg)\")\n",
    "\n",
    "# Box plot of Lifespan by Diet\n",
    "ggplot(animal_data, aes(x = Diet, y = Lifespan..years.)) +\n",
    "  geom_boxplot(fill = \"orange\") +\n",
    "  labs(title = \"Lifespan by Diet\", x = \"Diet\", y = \"Lifespan (years)\")"
   ]
  },
  {
   "cell_type": "code",
   "execution_count": 71,
   "id": "55fb480d-28e7-4062-8a83-e6a4124c4265",
   "metadata": {},
   "outputs": [
    {
     "name": "stdout",
     "output_type": "stream",
     "text": [
      "[1] \"Mean Height: 95\"\n",
      "[1] \"Median Weight: 129\"\n",
      "[1] \"Variance of Lifespan: NA\"\n",
      "[1] \"Standard Deviation of Speed: NA\"\n"
     ]
    }
   ],
   "source": [
    "# Convert Height..cm. to character (if it's not already)\n",
    "animal_data$Height..cm. <- as.character(animal_data$Height..cm.)\n",
    "\n",
    "# Split the ranges and calculate the midpoint\n",
    "animal_data$Height..cm. <- sapply(strsplit(animal_data$Height..cm., \"-\"), function(x) mean(as.numeric(x)))\n",
    "\n",
    "# Convert Weight..kg. to character (if it's not already)\n",
    "animal_data$Weight..kg. <- as.character(animal_data$Weight..kg.)\n",
    "\n",
    "# Split the ranges and calculate the midpoint\n",
    "animal_data$Weight..kg. <- sapply(strsplit(animal_data$Weight..kg., \"-\"), function(x) mean(as.numeric(x)))\n",
    "\n",
    "# Convert Lifespan..years. to character (if it's not already)\n",
    "animal_data$Lifespan..years. <- as.character(animal_data$Lifespan..years.)\n",
    "\n",
    "# Split the ranges and calculate the midpoint\n",
    "animal_data$Lifespan..years. <- sapply(strsplit(animal_data$Lifespan..years., \"-\"), function(x) mean(as.numeric(x)))\n",
    "\n",
    "# Convert Average.Speed..km.h. to character (if it's not already)\n",
    "animal_data$Average.Speed..km.h. <- as.character(animal_data$Average.Speed..km.h.)\n",
    "\n",
    "# Split the ranges and calculate the midpoint\n",
    "animal_data$Average.Speed..km.h. <- sapply(strsplit(animal_data$Average.Speed..km.h., \"-\"), function(x) mean(as.numeric(x)))\n",
    "\n",
    "# Check for NA values and handle them\n",
    "animal_data <- na.omit(animal_data)\n",
    "\n",
    "# descriptive statistics\n",
    "mean_height <- mean(animal_data$Height..cm.)\n",
    "median_weight <- median(animal_data$Weight..kg.)\n",
    "var_lifespan <- var(animal_data$Lifespan..years.)\n",
    "sd_speed <- sd(animal_data$Average.Speed..km.h.)\n",
    "\n",
    "# Print the results\n",
    "print(paste(\"Mean Height:\", mean_height))\n",
    "print(paste(\"Median Weight:\", median_weight))\n",
    "print(paste(\"Variance of Lifespan:\", var_lifespan))\n",
    "print(paste(\"Standard Deviation of Speed:\", sd_speed))"
   ]
  },
  {
   "cell_type": "code",
   "execution_count": 75,
   "id": "62f08ef8-1c1c-4913-8db2-eee8af7e9b3d",
   "metadata": {},
   "outputs": [
    {
     "ename": "ERROR",
     "evalue": "Error in t.test.default(carnivores, herbivores): not enough 'x' observations\n",
     "output_type": "error",
     "traceback": [
      "Error in t.test.default(carnivores, herbivores): not enough 'x' observations\nTraceback:\n",
      "1. t.test.default(carnivores, herbivores)",
      "2. stop(\"not enough 'x' observations\")",
      "3. .handleSimpleError(function (cnd) \n . {\n .     watcher$capture_plot_and_output()\n .     cnd <- sanitize_call(cnd)\n .     watcher$push(cnd)\n .     switch(on_error, continue = invokeRestart(\"eval_continue\"), \n .         stop = invokeRestart(\"eval_stop\"), error = NULL)\n . }, \"not enough 'x' observations\", base::quote(t.test.default(carnivores, \n .     herbivores)))"
     ]
    }
   ],
   "source": [
    "# Hypothesis testing (e.g., t-test to compare lifespans of carnivores and herbivores)\n",
    "carnivores <- animal_data[animal_data$Diet == \"Carnivore\", \"Lifespan..years.\"]\n",
    "herbivores <- animal_data[animal_data$Diet == \"Herbivore\", \"Lifespan..years.\"]\n",
    "t.test(carnivores, herbivores)"
   ]
  },
  {
   "cell_type": "code",
   "execution_count": null,
   "id": "56d6200a-3aeb-4f05-97ce-3719fe7231fc",
   "metadata": {},
   "outputs": [],
   "source": []
  }
 ],
 "metadata": {
  "kernelspec": {
   "display_name": "R",
   "language": "R",
   "name": "ir"
  },
  "language_info": {
   "codemirror_mode": "r",
   "file_extension": ".r",
   "mimetype": "text/x-r-source",
   "name": "R",
   "pygments_lexer": "r",
   "version": "4.4.2"
  }
 },
 "nbformat": 4,
 "nbformat_minor": 5
}
